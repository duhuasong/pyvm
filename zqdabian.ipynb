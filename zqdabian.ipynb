{
 "cells": [
  {
   "cell_type": "markdown",
   "metadata": {},
   "source": [
    "基于Python字节码的虚拟机的设计与实现 \n",
    "========\n",
    "\n",
    "中期答辩 --- 陶青云\n",
    "***"
   ]
  },
  {
   "cell_type": "markdown",
   "metadata": {},
   "source": [
    "# Python的执行过程\n",
    "***"
   ]
  },
  {
   "cell_type": "markdown",
   "metadata": {},
   "source": [
    "# Python的字节码\n",
    "***"
   ]
  },
  {
   "cell_type": "markdown",
   "metadata": {},
   "source": [
    "# vm.py"
   ]
  },
  {
   "cell_type": "code",
   "execution_count": 29,
   "metadata": {
    "collapsed": true
   },
   "outputs": [],
   "source": [
    "import vm\n",
    "\n",
    "# 实例化一个VirtualMachine对象\n",
    "vm_obj = vm.VirtualMachine()"
   ]
  },
  {
   "cell_type": "markdown",
   "metadata": {},
   "source": [
    "***\n",
    "# 一个例子(斐波那契数列)"
   ]
  },
  {
   "cell_type": "code",
   "execution_count": 57,
   "metadata": {
    "collapsed": false
   },
   "outputs": [],
   "source": [
    "import dis\n",
    "s = '''\\\n",
    "def fib(n):\n",
    "    if n in (0,1):\n",
    "        return n\n",
    "    else:\n",
    "        return fib(n-1) + fib(n-2)\n",
    "        \n",
    "for i in range(22):\n",
    "    print fib(i),\n",
    "'''\n",
    "co = compile(s, \"\", \"exec\")\n",
    "#dis.dis(co)"
   ]
  },
  {
   "cell_type": "code",
   "execution_count": 60,
   "metadata": {
    "collapsed": false
   },
   "outputs": [
    {
     "name": "stdout",
     "output_type": "stream",
     "text": [
      "0 1 1 2 3 5 8 13 21 34 55 89 144 233 377 610 987 1597 2584 4181 6765 10946\n"
     ]
    }
   ],
   "source": [
    "vm_obj.run_code(co)"
   ]
  },
  {
   "cell_type": "code",
   "execution_count": 63,
   "metadata": {
    "collapsed": false
   },
   "outputs": [
    {
     "name": "stdout",
     "output_type": "stream",
     "text": [
      "0 1 1 2 3 5 8 13 21 34 55 89 144 233 377 610 987 1597 2584 4181 6765 10946\n"
     ]
    }
   ],
   "source": [
    "exec co"
   ]
  },
  {
   "cell_type": "markdown",
   "metadata": {},
   "source": [
    "***\n",
    "# class VirtualMachine\n",
    "完成虚拟机的主要功能。具体包括：\n",
    "- 140多条字节码的具体实现\n",
    "- 对函数调用栈的相关操作\n",
    "- 维护一个指令指针IP\n",
    "- 一个虚拟的CPU，包括3个功能\n",
    "  * 取下一条指令\n",
    "  * 解码操作数\n",
    "  * 执行指令\n",
    "  "
   ]
  },
  {
   "cell_type": "code",
   "execution_count": 30,
   "metadata": {
    "collapsed": false
   },
   "outputs": [],
   "source": [
    "import re\n",
    "# VirtualMachine类中所有以大写字母开头方法的都是相关字节码的实现\n",
    "byte_codes = [ k for k in vm.VirtualMachine.__dict__.keys() if re.match('[A-Z]', k)]\n",
    "#print \"\\n\".join(byte_codes)\n"
   ]
  },
  {
   "cell_type": "code",
   "execution_count": 31,
   "metadata": {
    "collapsed": false
   },
   "outputs": [],
   "source": [
    "# 用一个列表结构来维护函数调用栈帧\n",
    "#print vm_obj.frames\n",
    "\n",
    "# 相关操作有\n",
    "#print vm_obj.make_frame, vm_obj.pop_frame, vm_obj.push_frame, vm_obj.run_frame\n",
    "\n",
    "# 指令指针在每个frame中维护"
   ]
  },
  {
   "cell_type": "code",
   "execution_count": 32,
   "metadata": {
    "collapsed": false
   },
   "outputs": [
    {
     "data": {
      "text/plain": [
       "<bound method VirtualMachine.dispatch of <vm.VirtualMachine object at 0x00000000043F8B00>>"
      ]
     },
     "execution_count": 32,
     "metadata": {},
     "output_type": "execute_result"
    }
   ],
   "source": [
    "vm_obj.run_code\n",
    "vm_obj.run_frame\n",
    "vm_obj.parse_byte\n",
    "vm_obj.dispatch"
   ]
  },
  {
   "cell_type": "markdown",
   "metadata": {},
   "source": [
    "***\n",
    "# class Frame\n",
    "Frame对象对应函数调用时所动态生成的栈帧（与C语言栈帧类似）。frame是一个属性的集合，它没有任何方法。\n",
    "- 它要维护3重要的命名空间，全局，局部和内建命名空间。\n",
    "- 它还要包含要执行的指令，和指令指针。\n",
    "- 数据栈\n",
    "- 块栈（ 与循环结构，异常处理相关）\n",
    "- 上一个frame的引用  \n",
    "\n",
    "与C语言不同，函数执行返回后，Frame可能不会被销毁。这点是实现Generator的基础\n",
    "\n",
    "```python\n",
    "class Frame(object):\n",
    "    def __init__(self, f_code, f_globals, f_locals, f_back):\n",
    "        self.f_code = f_code        # 指令集\n",
    "        self.f_globals = f_globals    # 全局命名空间\n",
    "        self.f_locals = f_locals     # 局部命名空间\n",
    "        self.f_back = f_back        # 上一个frame的引用\n",
    "        if hasattr(__builtins__, '__dict__'):   #内建命令空间\n",
    "            self.f_builtins = __builtins__.__dict__ \n",
    "        else:\n",
    "            self.f_builtins = __builtins__\n",
    "        self.stack = []            # 数据栈       \n",
    "        self.f_lasti = 0           # 指令指针\n",
    "        self.block_stack = []        # 块栈\n",
    "        \n",
    "        ##---------------------------- generator，closure相关\n",
    "        self.generator = None\n",
    "        if f_code.co_cellvars:\n",
    "            self.cells = {}\n",
    "            for var in f_code.co_cellvars:\n",
    "                cell = self.f_locals.get(var)\n",
    "                self.cells[var] = cell\n",
    "        else:\n",
    "            self.cells = None\n",
    "            \n",
    "        if f_code.co_freevars:\n",
    "            if not self.cells:\n",
    "                self.cells = {}\n",
    "            for var in f_code.co_freevars:\n",
    "                self.cells[var] = self.f_locals.get(var)\n",
    "\n",
    " ``` "
   ]
  },
  {
   "cell_type": "code",
   "execution_count": 33,
   "metadata": {
    "collapsed": false
   },
   "outputs": [
    {
     "name": "stdout",
     "output_type": "stream",
     "text": [
      "True\n"
     ]
    }
   ],
   "source": [
    "print vm_obj.frame == None"
   ]
  },
  {
   "cell_type": "markdown",
   "metadata": {},
   "source": [
    "***\n",
    "# class Function\n",
    " Fuction对象代表Python中的一个函数。他的重点在于可调用性。\n",
    " 当它被调用时，自动创建一个Frame对象执行函数中的字节码"
   ]
  },
  {
   "cell_type": "code",
   "execution_count": 28,
   "metadata": {
    "collapsed": false
   },
   "outputs": [],
   "source": [
    "vm.Function??"
   ]
  },
  {
   "cell_type": "markdown",
   "metadata": {},
   "source": [
    "***\n",
    "# 参数传递"
   ]
  },
  {
   "cell_type": "code",
   "execution_count": 73,
   "metadata": {
    "collapsed": false
   },
   "outputs": [],
   "source": [
    "def test(x, y=5, *args, **kwargs):\n",
    "    #print x, y, args, kwargs\n",
    "    pass\n",
    "\n",
    "test(1)\n",
    "test(1,2) \n",
    "test(1,2,3) \n",
    "test(1,2,3,4)\n",
    "test(x=1) \n",
    "test(x=1,y=1) \n",
    "test(x=1,y=1,a=1)\n",
    "test(x=1,y=1,a=1,b=1) \n",
    "test(1,y=1)\n",
    "test(1,2,3,4,a=1) \n",
    "test(1,2,3,4,k=1,t=2,o=3)"
   ]
  },
  {
   "cell_type": "markdown",
   "metadata": {},
   "source": [
    "与之相关的字节码\n",
    "- CALL_FUNCTION(argc)\n",
    "- CALL_FUNCTION_VAR(argc)\n",
    "- CALL_FUNCTION_KW(argc)\n",
    "- CALL_FUNCTION_VAR_KW(argc)\n",
    "\n",
    "官方文档对[CALL_FUNCTION](https://docs.python.org/2/library/dis.html#opcode-CALL_FUNCTION)的解释\n",
    ">    Calls a function. The low byte of argc indicates the number of positional parameters, the high byte the number of keyword parameters. On the stack, the opcode finds the keyword parameters first. For each keyword argument, the value is on top of the key. Below the keyword parameters, the positional parameters are on the stack, with the right-most parameter on top. Below the parameters, the function object to call is on the stack. Pops all function arguments, and the function itself off the stack, and pushes the return value."
   ]
  },
  {
   "cell_type": "code",
   "execution_count": 71,
   "metadata": {
    "collapsed": false
   },
   "outputs": [],
   "source": [
    "vm_obj.CALL_FUNCTION??\n",
    "vm_obj.call_function??"
   ]
  },
  {
   "cell_type": "markdown",
   "metadata": {},
   "source": [
    "***\n",
    "# 闭包机制的实现\n",
    ">    Closures are functions that refer to independent (free) variables. In other words, the function defined in the closure 'remembers' the environment in which it was created. \n",
    "[MDN中的解释](https://developer.mozilla.org/en/docs/Web/JavaScript/Closures)\n",
    "\n",
    "相关代码或字节码：\n",
    "- Function.\\_\\_call\\_\\_\n",
    "- LOAD_CLOSURE\n",
    "- MAKE_CLOSURE\n"
   ]
  },
  {
   "cell_type": "code",
   "execution_count": 92,
   "metadata": {
    "collapsed": false
   },
   "outputs": [
    {
     "name": "stdout",
     "output_type": "stream",
     "text": [
      "1\n",
      "3\n"
     ]
    }
   ],
   "source": [
    "# 一个简单闭包的例子\n",
    "def makeAdd(x):\n",
    "    def f(y):\n",
    "        return x + y\n",
    "    return f\n",
    "\n",
    "add1 = makeAdd(1)\n",
    "add3 = makeAdd(3)\n",
    "print add1(0)\n",
    "print add3(0)"
   ]
  },
  {
   "cell_type": "code",
   "execution_count": 87,
   "metadata": {
    "collapsed": false
   },
   "outputs": [
    {
     "name": "stdout",
     "output_type": "stream",
     "text": [
      "1\n",
      "3\n"
     ]
    }
   ],
   "source": [
    "# Function在创建时会保存它的自由变量，在func_closure属性中\n",
    "print add1.func_closure[0].cell_contents\n",
    "print add3.func_closure[0].cell_contents"
   ]
  },
  {
   "cell_type": "code",
   "execution_count": 91,
   "metadata": {
    "collapsed": false
   },
   "outputs": [
    {
     "name": "stdout",
     "output_type": "stream",
     "text": [
      "('x',)\n",
      "('x',)\n"
     ]
    }
   ],
   "source": [
    "# 字节码层的解释\n",
    "# 编译器在编译时已确定自由变量\n",
    "print add1.__code__.co_freevars\n",
    "\n",
    "# 同时外层函数也会确定哪些变量会被内函数引用\n",
    "print makeAdd.__code__.co_cellvars"
   ]
  },
  {
   "cell_type": "markdown",
   "metadata": {},
   "source": [
    "有了这些信息，就可以完成闭包机制。闭包函数在被调用时，在创建Frame之前，把自由变量和对应的值存入局部命名空间中。（CPython不是这样实现的，看不懂）"
   ]
  },
  {
   "cell_type": "markdown",
   "metadata": {},
   "source": [
    "***\n",
    "# 生成器"
   ]
  },
  {
   "cell_type": "markdown",
   "metadata": {},
   "source": [
    "***\n",
    "# 异常处理机制"
   ]
  }
 ],
 "metadata": {
  "kernelspec": {
   "display_name": "Python 2",
   "language": "python",
   "name": "python2"
  },
  "language_info": {
   "codemirror_mode": {
    "name": "ipython",
    "version": 2
   },
   "file_extension": ".py",
   "mimetype": "text/x-python",
   "name": "python",
   "nbconvert_exporter": "python",
   "pygments_lexer": "ipython2",
   "version": "2.7.11"
  }
 },
 "nbformat": 4,
 "nbformat_minor": 0
}
